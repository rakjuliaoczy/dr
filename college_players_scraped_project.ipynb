{
 "cells": [
  {
   "cell_type": "code",
   "execution_count": 1,
   "metadata": {},
   "outputs": [],
   "source": [
    "from bs4 import BeautifulSoup\n",
    "import requests\n",
    "import re\n",
    "import pandas as pd\n",
    "import numpy as np\n",
    "import time \n",
    "import string\n",
    "from progressbar import ProgressBar\n",
    "pbar = ProgressBar()\n",
    "from tqdm import tqdm_notebook as tqdm\n",
    "import pickle\n",
    "\n",
    "url = \"https://www.sports-reference.com/cbb/players\""
   ]
  },
  {
   "cell_type": "code",
   "execution_count": 2,
   "metadata": {},
   "outputs": [],
   "source": [
    "page = requests.get(url)\n",
    "soup = BeautifulSoup(page.text, 'html.parser')"
   ]
  },
  {
   "cell_type": "markdown",
   "metadata": {},
   "source": [
    "### Function to Parse urls"
   ]
  },
  {
   "cell_type": "code",
   "execution_count": 3,
   "metadata": {},
   "outputs": [],
   "source": [
    "# Function to parse through the url\n",
    "def getAndParseUrl(url):\n",
    "    results = requests.get(url)\n",
    "#     time.sleep(1)\n",
    "    soup = BeautifulSoup(results.text, 'html.parser')\n",
    "    return soup"
   ]
  },
  {
   "cell_type": "markdown",
   "metadata": {},
   "source": [
    "### Remove \"/cbb/players\" from url"
   ]
  },
  {
   "cell_type": "code",
   "execution_count": 4,
   "metadata": {},
   "outputs": [
    {
     "data": {
      "text/plain": [
       "'https://www.sports-reference.com'"
      ]
     },
     "execution_count": 4,
     "metadata": {},
     "output_type": "execute_result"
    }
   ],
   "source": [
    "root_url = url[:32]\n",
    "root_url"
   ]
  },
  {
   "cell_type": "markdown",
   "metadata": {},
   "source": [
    "### Take all letters from the link"
   ]
  },
  {
   "cell_type": "code",
   "execution_count": 5,
   "metadata": {},
   "outputs": [
    {
     "data": {
      "application/vnd.jupyter.widget-view+json": {
       "model_id": "fb93d295d7dc41ea8ab25da0d4abd734",
       "version_major": 2,
       "version_minor": 0
      },
      "text/plain": [
       "HBox(children=(IntProgress(value=0, max=26), HTML(value='')))"
      ]
     },
     "metadata": {},
     "output_type": "display_data"
    },
    {
     "name": "stdout",
     "output_type": "stream",
     "text": [
      "\n"
     ]
    }
   ],
   "source": [
    "letter_link = []\n",
    "for links in tqdm(string.ascii_lowercase):\n",
    "    results = soup.find('a', {'href': f\"/cbb/players/{links}-index.html\"})['href']\n",
    "    letter_link.append(results)"
   ]
  },
  {
   "cell_type": "markdown",
   "metadata": {},
   "source": [
    "###  Add the root url to the ends of the letters link"
   ]
  },
  {
   "cell_type": "code",
   "execution_count": 6,
   "metadata": {
    "scrolled": true
   },
   "outputs": [
    {
     "data": {
      "application/vnd.jupyter.widget-view+json": {
       "model_id": "75957370627c4d42bd090d8e17ac9b52",
       "version_major": 2,
       "version_minor": 0
      },
      "text/plain": [
       "HBox(children=(IntProgress(value=0, max=26), HTML(value='')))"
      ]
     },
     "metadata": {},
     "output_type": "display_data"
    },
    {
     "name": "stdout",
     "output_type": "stream",
     "text": [
      "\n"
     ]
    }
   ],
   "source": [
    "full_url = []\n",
    "for link in tqdm(letter_link):\n",
    "    letters_url = root_url + link\n",
    "    full_url.append(letters_url)"
   ]
  },
  {
   "cell_type": "markdown",
   "metadata": {},
   "source": [
    "### Parse through about the letter url"
   ]
  },
  {
   "cell_type": "code",
   "execution_count": 7,
   "metadata": {},
   "outputs": [
    {
     "data": {
      "application/vnd.jupyter.widget-view+json": {
       "model_id": "e98ad9d6dca74da08de132163624755a",
       "version_major": 2,
       "version_minor": 0
      },
      "text/plain": [
       "HBox(children=(IntProgress(value=0, max=26), HTML(value='')))"
      ]
     },
     "metadata": {},
     "output_type": "display_data"
    },
    {
     "name": "stdout",
     "output_type": "stream",
     "text": [
      "\n"
     ]
    }
   ],
   "source": [
    "parsed_letters = []\n",
    "for urls in tqdm(full_url):\n",
    "    soup = getAndParseUrl(urls)\n",
    "#     print(soup)\n",
    "    parsed_letters.append(soup)"
   ]
  },
  {
   "cell_type": "markdown",
   "metadata": {},
   "source": [
    "### Function to Parse through each individual page and obtain player url and year played"
   ]
  },
  {
   "cell_type": "code",
   "execution_count": 8,
   "metadata": {},
   "outputs": [],
   "source": [
    "def p_parsing(page_number):\n",
    "    player_time = []\n",
    "    player = parsed_letters[page_number].find_all('p')[1:]\n",
    "    date = parsed_letters[page_number].find_all('p')[1:]\n",
    "    for players, time in zip(player, date):\n",
    "        try:\n",
    "            played = players.a['href']\n",
    "            times = time.small.text[1:10]\n",
    "#             take only dates after 2001\n",
    "            if int(times[:4]) >= 2001:\n",
    "                player_time.append({\"url\":root_url +played, \"start_year\": int(times[:4]), \"end_year\": int(times[5:9])})\n",
    "        except:\n",
    "            pass\n",
    "    return player_time"
   ]
  },
  {
   "cell_type": "markdown",
   "metadata": {},
   "source": [
    "### Parse through url of each player"
   ]
  },
  {
   "cell_type": "code",
   "execution_count": 9,
   "metadata": {},
   "outputs": [
    {
     "data": {
      "application/vnd.jupyter.widget-view+json": {
       "model_id": "ce5defc53bd446b097a70358148aadbf",
       "version_major": 2,
       "version_minor": 0
      },
      "text/plain": [
       "HBox(children=(IntProgress(value=0, max=26), HTML(value='')))"
      ]
     },
     "metadata": {},
     "output_type": "display_data"
    },
    {
     "name": "stdout",
     "output_type": "stream",
     "text": [
      "\n"
     ]
    }
   ],
   "source": [
    "full_list = []\n",
    "for i in tqdm(range(0,26)):\n",
    "    full_list.extend(p_parsing(i))"
   ]
  },
  {
   "cell_type": "markdown",
   "metadata": {},
   "source": [
    "### Take only the url from dictionary of full_list"
   ]
  },
  {
   "cell_type": "code",
   "execution_count": 10,
   "metadata": {},
   "outputs": [
    {
     "data": {
      "application/vnd.jupyter.widget-view+json": {
       "model_id": "2a6495fb5439467f8d83bc5e893c034f",
       "version_major": 2,
       "version_minor": 0
      },
      "text/plain": [
       "HBox(children=(IntProgress(value=0, max=33222), HTML(value='')))"
      ]
     },
     "metadata": {},
     "output_type": "display_data"
    },
    {
     "name": "stdout",
     "output_type": "stream",
     "text": [
      "\n"
     ]
    }
   ],
   "source": [
    "players_site = []\n",
    "for dic in tqdm(full_list):\n",
    "    urls = dic['url']\n",
    "    players_site.append(urls)"
   ]
  },
  {
   "cell_type": "code",
   "execution_count": 77,
   "metadata": {},
   "outputs": [
    {
     "data": {
      "application/vnd.jupyter.widget-view+json": {
       "model_id": "349dad24109348888816ff4dbfd854f5",
       "version_major": 2,
       "version_minor": 0
      },
      "text/plain": [
       "HBox(children=(IntProgress(value=0, max=16609), HTML(value='')))"
      ]
     },
     "metadata": {},
     "output_type": "display_data"
    },
    {
     "name": "stdout",
     "output_type": "stream",
     "text": [
      "\n"
     ]
    }
   ],
   "source": [
    "all_players = []\n",
    "rest_of_players = []\n",
    "for d in tqdm(full_list[16613:]):\n",
    "    url = d['url']\n",
    "    soup = getAndParseUrl(url)\n",
    "    exp1 = soup\n",
    "    rest_of_players.append(exp1)"
   ]
  },
  {
   "cell_type": "markdown",
   "metadata": {},
   "source": [
    "### Function to get stats of each player"
   ]
  },
  {
   "cell_type": "code",
   "execution_count": 79,
   "metadata": {},
   "outputs": [],
   "source": [
    "def stat_compiler(list_soups):\n",
    "    list1 = []\n",
    "    for exp in tqdm(list_soups):\n",
    "        try:\n",
    "            name = exp.h1.text\n",
    "            height = exp.find('span', {'itemprop': \"height\"}).text\n",
    "            weight = exp.find('span', {'itemprop': \"weight\"}).text[:3]\n",
    "            position = exp.p.strong.nextSibling.strip()\n",
    "            games = exp.select(\"tfoot td[data-stat ='g']\")[0].text\n",
    "            games_started = exp.select(\"tfoot td[data-stat= 'gs']\")[0].text\n",
    "            minutes_per = exp.select(\"tfoot td[data-stat= 'mp_per_g']\")[0].text\n",
    "            field_goal = exp.select(\"tfoot td[data-stat= 'fg_per_g']\")[0].text\n",
    "            field_attmp = exp.select(\"tfoot td[data-stat= 'fga_per_g']\")[0].text\n",
    "            field_pct = exp.select(\"tfoot td[data-stat= 'fg_pct']\")[0].text\n",
    "            two_ptrs = exp.select(\"tfoot td[data-stat= 'fg2_per_g']\")[0].text\n",
    "            two_pattmp = exp.select(\"tfoot td[data-stat= 'fg2a_per_g']\")[0].text\n",
    "            two_pct = exp.select(\"tfoot td[data-stat= 'fg2_pct']\")[0].text\n",
    "            three_ptrs = exp.select(\"tfoot td[data-stat= 'fg3_per_g']\")[0].text\n",
    "            three_pattmp = exp.select(\"tfoot td[data-stat= 'fg3a_per_g']\")[0].text\n",
    "            three_pct = exp.select(\"tfoot td[data-stat= 'fg_pct']\")[0].text\n",
    "            free_throws = exp.select(\"tfoot td[data-stat= 'ft_per_g']\")[0].text\n",
    "            free_attmp = exp.select(\"tfoot td[data-stat= 'fta_per_g']\")[0].text\n",
    "            free_pct = exp.select(\"tfoot td[data-stat= 'ft_pct']\")[0].text\n",
    "            tot_reb = exp.select(\"tfoot td[data-stat= 'trb_per_g']\")[0].text\n",
    "            assist = exp.select(\"tfoot td[data-stat= 'ast_per_g']\")[0].text\n",
    "            steals = exp.select(\"tfoot td[data-stat= 'stl_per_g']\")[0].text\n",
    "            blocks = exp.select(\"tfoot td[data-stat= 'blk_per_g']\")[0].text\n",
    "            points = exp.select(\"tfoot td[data-stat= 'pts_per_g']\")[0].text\n",
    "            oreb = exp.select(\"tfoot td[data-stat= 'orb_per_g']\")[0].text\n",
    "            dreb = exp.select(\"tfoot td[data-stat= 'drb_per_g']\")[0].text\n",
    "            tov = exp.select(\"tfoot td[data-stat= 'tov_per_g']\")[0].text\n",
    "            exp.select(\"tfoot  td[data-stat='tov_per_g']\")[0].text\n",
    "            position = position.strip('\\n')\n",
    "\n",
    "            dict1 = {'name': name,'height': height, 'weight': weight, 'position': position,\n",
    "                    'games_played': games, 'games_started': games_started, 'min_per': minutes_per,\n",
    "                    'field_goal': field_goal, 'field_attmps': field_attmp, 'field_pct': field_pct,\n",
    "                    'two_pointer': two_ptrs, 'two_pattamps': two_pattmp, 'two_pct': two_pct,\n",
    "                    'three_ptrs': three_ptrs, 'three_pattmp': three_pattmp, 'three_pct': three_pct,\n",
    "                    'free_throws': free_throws, 'free_attmps': free_attmp, 'free_pct': free_pct,\n",
    "                    'assists': assist, 'steals': steals, 'blocks': blocks, \n",
    "                    'points': points, 'off_reb': oreb, 'def_reb': dreb,'total_reb': tot_reb, 'turnovers': tov}\n",
    "            list1.append(dict1)\n",
    "        except:\n",
    "            print('f could not get {position}')\n",
    "    return list1"
   ]
  },
  {
   "cell_type": "markdown",
   "metadata": {},
   "source": [
    "### Assign Function to a Variable"
   ]
  },
  {
   "cell_type": "code",
   "execution_count": null,
   "metadata": {},
   "outputs": [],
   "source": [
    "full_list  = stat_compileriler(all_players)"
   ]
  },
  {
   "cell_type": "code",
   "execution_count": 88,
   "metadata": {},
   "outputs": [],
   "source": [
    "new_list = stat_compiler(rest_of_players)"
   ]
  },
  {
   "cell_type": "code",
   "execution_count": 84,
   "metadata": {},
   "outputs": [
    {
     "data": {
      "text/plain": [
       "31860"
      ]
     },
     "execution_count": 84,
     "metadata": {},
     "output_type": "execute_result"
    }
   ],
   "source": [
    "len(final_list) + len(new_list)"
   ]
  },
  {
   "cell_type": "code",
   "execution_count": 86,
   "metadata": {},
   "outputs": [],
   "source": [
    "players_stats = final_list + new_list"
   ]
  },
  {
   "cell_type": "markdown",
   "metadata": {},
   "source": [
    "### Pickle all list of items"
   ]
  },
  {
   "cell_type": "code",
   "execution_count": 76,
   "metadata": {},
   "outputs": [],
   "source": [
    "with open(\"final_list.pickle\", \"wb\") as fp:\n",
    "    pickle.dump(final_list, fp)"
   ]
  },
  {
   "cell_type": "code",
   "execution_count": 85,
   "metadata": {},
   "outputs": [],
   "source": [
    "with open(\"new_list.pickle\", \"wb\") as fp:\n",
    "    pickle.dump(new_list, fp)"
   ]
  },
  {
   "cell_type": "code",
   "execution_count": 87,
   "metadata": {},
   "outputs": [],
   "source": [
    "with open(\"players_stats.pickle\", \"wb\") as fp:\n",
    "    pickle.dump(players_stats, fp)"
   ]
  },
  {
   "cell_type": "code",
   "execution_count": null,
   "metadata": {},
   "outputs": [],
   "source": [
    "# import json\n",
    "# with open('all_players_16612.json', 'w') as f:\n",
    "#     json.dump(all_players, f)"
   ]
  },
  {
   "cell_type": "markdown",
   "metadata": {},
   "source": [
    "###  Turn into DataFrame and Save to CSV File"
   ]
  },
  {
   "cell_type": "code",
   "execution_count": 90,
   "metadata": {},
   "outputs": [],
   "source": [
    "df = pd.DataFrame.from_dict(players_stats)"
   ]
  },
  {
   "cell_type": "code",
   "execution_count": 91,
   "metadata": {},
   "outputs": [],
   "source": [
    "df= df[['name', 'height', 'weight', 'position', 'games_played', 'games_started', 'min_per', 'field_goal',\n",
    "            'field_attmps', 'field_pct', 'two_pointer', 'two_pattamps', 'two_pct', 'three_ptrs', 'three_pattmp',\n",
    "            'three_pct', 'free_throws', 'free_attmps', 'free_pct', 'assists', 'steals', 'blocks', 'points','off_reb',\n",
    "            'def_reb', 'total_reb', 'turnovers']]"
   ]
  },
  {
   "cell_type": "code",
   "execution_count": 95,
   "metadata": {},
   "outputs": [
    {
     "data": {
      "text/plain": [
       "(31860, 27)"
      ]
     },
     "execution_count": 95,
     "metadata": {},
     "output_type": "execute_result"
    }
   ],
   "source": [
    "df.shape"
   ]
  },
  {
   "cell_type": "code",
   "execution_count": 96,
   "metadata": {},
   "outputs": [],
   "source": [
    "df.to_csv(r'players_stats.csv')"
   ]
  }
 ],
 "metadata": {
  "kernelspec": {
   "display_name": "Python 3",
   "language": "python",
   "name": "python3"
  },
  "language_info": {
   "codemirror_mode": {
    "name": "ipython",
    "version": 3
   },
   "file_extension": ".py",
   "mimetype": "text/x-python",
   "name": "python",
   "nbconvert_exporter": "python",
   "pygments_lexer": "ipython3",
   "version": "3.9.2 (tags/v3.9.2:1a79785, Feb 19 2021, 13:44:55) [MSC v.1928 64 bit (AMD64)]"
  },
  "vscode": {
   "interpreter": {
    "hash": "dd30dd3e88d11e2c5c8ec7e911289ef1000d11f7926f8d25b9dddd4af71e552d"
   }
  }
 },
 "nbformat": 4,
 "nbformat_minor": 2
}
